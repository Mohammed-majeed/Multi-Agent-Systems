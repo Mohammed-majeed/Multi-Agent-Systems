{
  "nbformat": 4,
  "nbformat_minor": 0,
  "metadata": {
    "colab": {
      "provenance": []
    },
    "kernelspec": {
      "name": "python3",
      "display_name": "Python 3"
    },
    "language_info": {
      "name": "python"
    }
  },
  "cells": [
    {
      "cell_type": "code",
      "source": [
        "import numpy as np\n",
        "import matplotlib.pyplot as plt\n",
        "import random\n"
      ],
      "metadata": {
        "id": "2ncc66GNmj40"
      },
      "execution_count": null,
      "outputs": []
    },
    {
      "cell_type": "code",
      "source": [
        "# function to plot all p values\n",
        "def find_optimal_batch_size_for_p_values(N, p_values, k_range, iterations=1):\n",
        "    plt.figure(figsize=(12, 7))\n",
        "\n",
        "    for p in p_values:\n",
        "        avg_tests_per_k = []\n",
        "        k_values = list(k_range)  # Convert range to list for iteration\n",
        "\n",
        "        for k in k_values:\n",
        "            avg_tests = simulate_batch_testing(N, p, k, iterations)\n",
        "            avg_tests_per_k.append(avg_tests)\n",
        "\n",
        "        # Plotting the results on the same line plot for each p\n",
        "        plt.plot(k_values, avg_tests_per_k, label=f'p = {p:.4f}')\n",
        "\n",
        "        # Finding the optimal batch size for each p\n",
        "        optimal_k = k_values[np.argmin(avg_tests_per_k)]\n",
        "        reduction = calculate_workload_reduction(N, p, optimal_k, iterations)\n",
        "        print(f\"Optimal batch size (k) for p = {p:.4f}: {optimal_k}, with expected reduction in workload: {reduction:.2f}%\")\n",
        "\n",
        "    # Finalizing the plot\n",
        "    plt.title('Average Number of Tests vs. Batch Size for Different p Values')\n",
        "    plt.xlabel('Batch Size (k)')\n",
        "    plt.ylabel('Average Number of Tests')\n",
        "    plt.xticks(k_values[::max(1, len(k_values)//20)])  # Adjust x-axis ticks for readability\n",
        "    plt.legend()\n",
        "    plt.grid(True)\n",
        "    plt.show()"
      ],
      "metadata": {
        "id": "673X-0h7y7zX"
      },
      "execution_count": null,
      "outputs": []
    },
    {
      "cell_type": "code",
      "source": [
        "def simulate_batch_testing(N, p, k, iterations=1):\n",
        "    total_tests = 0\n",
        "\n",
        "    for _ in range(iterations):\n",
        "        samples = np.random.rand(N) < p\n",
        "        for i in range(0, N, k):\n",
        "            batch = samples[i:i+k]\n",
        "            if np.any(batch):\n",
        "                total_tests += k + 1\n",
        "            else:\n",
        "                total_tests += 1\n",
        "\n",
        "    return total_tests / iterations\n",
        "\n",
        "def calculate_workload_reduction(N, p, optimal_k, iterations=1):\n",
        "    total_individual_tests = N\n",
        "    avg_batch_tests = simulate_batch_testing(N, p, optimal_k, iterations)\n",
        "    reduction = ((total_individual_tests - avg_batch_tests) / total_individual_tests) * 100\n",
        "    return reduction\n"
      ],
      "metadata": {
        "id": "wCn3Goj1zHj3"
      },
      "execution_count": null,
      "outputs": []
    },
    {
      "cell_type": "code",
      "source": [
        "N = 1000000 # Total number of samples\n",
        "p_values = [10**-1, 10**-2, 10**-3, 10**-4]\n",
        "iterations = 100  # Number of iterations for simulation\n",
        "max_k = 100  # Maximum batch size to consider\n",
        "k_range = range(1, max_k + 1)  # Create a range object for k values\n",
        "\n",
        "find_optimal_batch_size_for_p_values(N, p_values, k_range, iterations)"
      ],
      "metadata": {
        "id": "ceX5m6iXzyjf"
      },
      "execution_count": null,
      "outputs": []
    }
  ]
}